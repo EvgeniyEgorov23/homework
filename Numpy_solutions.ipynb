{
  "nbformat": 4,
  "nbformat_minor": 0,
  "metadata": {
    "colab": {
      "provenance": []
    },
    "kernelspec": {
      "name": "python3",
      "display_name": "Python 3"
    },
    "language_info": {
      "name": "python"
    }
  },
  "cells": [
    {
      "cell_type": "code",
      "execution_count": null,
      "metadata": {
        "colab": {
          "base_uri": "https://localhost:8080/"
        },
        "id": "_Fc0EUOlOjHD",
        "outputId": "d173dafd-f483-402f-de22-118c57250235"
      },
      "outputs": [
        {
          "output_type": "stream",
          "name": "stdout",
          "text": [
            "Hi\n"
          ]
        }
      ],
      "source": [
        "print('Hi')"
      ]
    },
    {
      "cell_type": "markdown",
      "source": [
        "Создайте массив из 10 нулей"
      ],
      "metadata": {
        "id": "4ztkaylG8LAh"
      }
    },
    {
      "cell_type": "code",
      "source": [
        "import numpy as np\n",
        "array = np.zeros(10)\n",
        "print(array)\n",
        "print(type(array))\n"
      ],
      "metadata": {
        "colab": {
          "base_uri": "https://localhost:8080/"
        },
        "id": "N93Dj1ZwO6ri",
        "outputId": "f7dfd88e-3c85-481b-b2c4-f2b6f6b7e6b0"
      },
      "execution_count": null,
      "outputs": [
        {
          "output_type": "stream",
          "name": "stdout",
          "text": [
            "[0. 0. 0. 0. 0. 0. 0. 0. 0. 0.]\n",
            "<class 'numpy.ndarray'>\n"
          ]
        }
      ]
    },
    {
      "cell_type": "markdown",
      "source": [
        "Создать массив из 10 единиц"
      ],
      "metadata": {
        "id": "6w83QXwL8Rtn"
      }
    },
    {
      "cell_type": "code",
      "source": [
        "array=np.ones(10)\n",
        "print(array)"
      ],
      "metadata": {
        "colab": {
          "base_uri": "https://localhost:8080/"
        },
        "id": "CAQiGBof1m7O",
        "outputId": "a4617f90-74a1-4f5b-a1db-8378fe8d8aa9"
      },
      "execution_count": null,
      "outputs": [
        {
          "output_type": "stream",
          "name": "stdout",
          "text": [
            "[1. 1. 1. 1. 1. 1. 1. 1. 1. 1.]\n"
          ]
        }
      ]
    },
    {
      "cell_type": "markdown",
      "source": [
        "Создать массив из 10 пятерок"
      ],
      "metadata": {
        "id": "Np__cl2C8YFG"
      }
    },
    {
      "cell_type": "code",
      "source": [
        "array=np.ones(10)*5\n",
        "print(array)"
      ],
      "metadata": {
        "colab": {
          "base_uri": "https://localhost:8080/"
        },
        "id": "nkesxUeG2EDQ",
        "outputId": "4b497f0a-69b1-40e8-dbea-e65bae730bc5"
      },
      "execution_count": null,
      "outputs": [
        {
          "output_type": "stream",
          "name": "stdout",
          "text": [
            "[5. 5. 5. 5. 5. 5. 5. 5. 5. 5.]\n"
          ]
        }
      ]
    },
    {
      "cell_type": "markdown",
      "source": [
        "Создать массив из целых чисел от 10 до 50"
      ],
      "metadata": {
        "id": "9j3QHPyP8bxe"
      }
    },
    {
      "cell_type": "code",
      "source": [
        "array=np.arange(10,51)\n",
        "print(array)"
      ],
      "metadata": {
        "colab": {
          "base_uri": "https://localhost:8080/"
        },
        "id": "lkqCBnMB2ECX",
        "outputId": "fe84da19-5a85-4c5e-e963-96e505679253"
      },
      "execution_count": null,
      "outputs": [
        {
          "output_type": "stream",
          "name": "stdout",
          "text": [
            "[10 11 12 13 14 15 16 17 18 19 20 21 22 23 24 25 26 27 28 29 30 31 32 33\n",
            " 34 35 36 37 38 39 40 41 42 43 44 45 46 47 48 49 50]\n"
          ]
        }
      ]
    },
    {
      "cell_type": "markdown",
      "source": [
        "Создать массив из четных чисел от 10 до 50"
      ],
      "metadata": {
        "id": "E41SLaI48gPB"
      }
    },
    {
      "cell_type": "code",
      "source": [
        "array=np.arange(10,51,2)\n",
        "print(array) "
      ],
      "metadata": {
        "colab": {
          "base_uri": "https://localhost:8080/"
        },
        "id": "ODZCZTcg4jjh",
        "outputId": "9a32f0a1-32cf-4963-8dbc-8b09c6f07fc8"
      },
      "execution_count": null,
      "outputs": [
        {
          "output_type": "stream",
          "name": "stdout",
          "text": [
            "[10 12 14 16 18 20 22 24 26 28 30 32 34 36 38 40 42 44 46 48 50]\n"
          ]
        }
      ]
    },
    {
      "cell_type": "markdown",
      "source": [
        "Создать матрицу 3х3 с числами от 0 до 8"
      ],
      "metadata": {
        "id": "gep4GFjE8qHP"
      }
    },
    {
      "cell_type": "code",
      "source": [
        "arary_2D = np.arange(9).reshape(3,3)\n",
        "print(array_2D)"
      ],
      "metadata": {
        "colab": {
          "base_uri": "https://localhost:8080/"
        },
        "id": "iC1W-RJE7wG6",
        "outputId": "193fddca-098e-4d6b-ff16-0a2c14043e67"
      },
      "execution_count": null,
      "outputs": [
        {
          "output_type": "stream",
          "name": "stdout",
          "text": [
            "[[0 1 2]\n",
            " [3 4 5]\n",
            " [6 7 8]]\n"
          ]
        }
      ]
    },
    {
      "cell_type": "markdown",
      "source": [
        "Создать единичную матрицу 3x3"
      ],
      "metadata": {
        "id": "PdcHSg169fRQ"
      }
    },
    {
      "cell_type": "code",
      "source": [
        "array_2D = np.eye(3)\n",
        "print(array_2D)"
      ],
      "metadata": {
        "colab": {
          "base_uri": "https://localhost:8080/"
        },
        "id": "geN133n78v-3",
        "outputId": "30605f51-8297-4bc6-cf0e-512383227b55"
      },
      "execution_count": null,
      "outputs": [
        {
          "output_type": "stream",
          "name": "stdout",
          "text": [
            "[[1. 0. 0.]\n",
            " [0. 1. 0.]\n",
            " [0. 0. 1.]]\n"
          ]
        }
      ]
    },
    {
      "cell_type": "markdown",
      "source": [
        "Используйте NumPy для генерации случайного числа от 0 до 1"
      ],
      "metadata": {
        "id": "OxgIbxH1B_Hj"
      }
    },
    {
      "cell_type": "code",
      "source": [
        "rand_num = np.random.normal(0,1,1)\n",
        "print(rand_num)"
      ],
      "metadata": {
        "colab": {
          "base_uri": "https://localhost:8080/"
        },
        "id": "_a6WnxMi_Zfw",
        "outputId": "a88067b0-6f0d-4d1b-b197-90091c249e88"
      },
      "execution_count": null,
      "outputs": [
        {
          "output_type": "stream",
          "name": "stdout",
          "text": [
            "[0.40160154]\n"
          ]
        }
      ]
    },
    {
      "cell_type": "markdown",
      "source": [
        "Используйте NumPy для генерации массива из 25 случайных чисел, взятых из стандартного нормального распределения"
      ],
      "metadata": {
        "id": "3eCGSfkkCZ6f"
      }
    },
    {
      "cell_type": "code",
      "source": [
        "rand_num = np.random.normal(0,1,25)\n",
        "print(rand_num)"
      ],
      "metadata": {
        "colab": {
          "base_uri": "https://localhost:8080/"
        },
        "id": "eNfr5HifCBZ8",
        "outputId": "b81d873a-db6d-4fb9-bec7-86db917b7897"
      },
      "execution_count": null,
      "outputs": [
        {
          "output_type": "stream",
          "name": "stdout",
          "text": [
            "[ 0.2949437  -0.64804453 -0.10415562 -1.81658328  1.15119372 -0.57100546\n",
            "  0.24141995 -0.80505067 -2.22984503 -0.10385211  0.15870684  0.44390008\n",
            " -0.79843959  1.21523367 -0.09944425  1.06425235  0.90726898  1.33577216\n",
            "  0.02269813  1.40727829 -0.92862203 -0.15726368  1.37202976 -1.27782317\n",
            "  0.90856136]\n"
          ]
        }
      ]
    },
    {
      "cell_type": "markdown",
      "source": [
        "Создайте следующую матрицу используя функции библиотеки NumPy:"
      ],
      "metadata": {
        "id": "-TPDfbsLThgT"
      }
    },
    {
      "cell_type": "code",
      "source": [
        "import numpy as np\n",
        "a = np.linspace(0.01, 1, 100).reshape(10,10)\n",
        "print(a)"
      ],
      "metadata": {
        "colab": {
          "base_uri": "https://localhost:8080/"
        },
        "id": "CWa6nkmQC0ZL",
        "outputId": "8e9fad09-e5ab-449c-e543-0e6a0e50ed3a"
      },
      "execution_count": null,
      "outputs": [
        {
          "output_type": "stream",
          "name": "stdout",
          "text": [
            "[[0.01 0.02 0.03 0.04 0.05 0.06 0.07 0.08 0.09 0.1 ]\n",
            " [0.11 0.12 0.13 0.14 0.15 0.16 0.17 0.18 0.19 0.2 ]\n",
            " [0.21 0.22 0.23 0.24 0.25 0.26 0.27 0.28 0.29 0.3 ]\n",
            " [0.31 0.32 0.33 0.34 0.35 0.36 0.37 0.38 0.39 0.4 ]\n",
            " [0.41 0.42 0.43 0.44 0.45 0.46 0.47 0.48 0.49 0.5 ]\n",
            " [0.51 0.52 0.53 0.54 0.55 0.56 0.57 0.58 0.59 0.6 ]\n",
            " [0.61 0.62 0.63 0.64 0.65 0.66 0.67 0.68 0.69 0.7 ]\n",
            " [0.71 0.72 0.73 0.74 0.75 0.76 0.77 0.78 0.79 0.8 ]\n",
            " [0.81 0.82 0.83 0.84 0.85 0.86 0.87 0.88 0.89 0.9 ]\n",
            " [0.91 0.92 0.93 0.94 0.95 0.96 0.97 0.98 0.99 1.  ]]\n"
          ]
        }
      ]
    },
    {
      "cell_type": "markdown",
      "source": [
        "Дана стартовая матрица (обязательно запустите код ниже в вашем решении!). \n",
        "Эта матрица будет использоваться в последующих задачах"
      ],
      "metadata": {
        "id": "m3YxdlWIWsZT"
      }
    },
    {
      "cell_type": "code",
      "source": [
        "# это наша стартовая матрица\n",
        "mat = np.arange(1,26).reshape(5,5)\n",
        "print(mat)\n"
      ],
      "metadata": {
        "colab": {
          "base_uri": "https://localhost:8080/"
        },
        "id": "3X7YaT69TkN2",
        "outputId": "b8f24b57-4bbc-412a-8cb2-3b453a910a54"
      },
      "execution_count": null,
      "outputs": [
        {
          "output_type": "stream",
          "name": "stdout",
          "text": [
            "[[ 1  2  3  4  5]\n",
            " [ 6  7  8  9 10]\n",
            " [11 12 13 14 15]\n",
            " [16 17 18 19 20]\n",
            " [21 22 23 24 25]]\n"
          ]
        }
      ]
    },
    {
      "cell_type": "markdown",
      "source": [
        "Необходимо написать код который вернет следующую матрицу из стартовой"
      ],
      "metadata": {
        "id": "X0kCOimyW7VD"
      }
    },
    {
      "cell_type": "code",
      "source": [
        "print(mat[2:,1:])"
      ],
      "metadata": {
        "colab": {
          "base_uri": "https://localhost:8080/"
        },
        "id": "GFrSSkQtW06b",
        "outputId": "87738273-e3c6-40b0-ad00-3a631f3829f3"
      },
      "execution_count": null,
      "outputs": [
        {
          "output_type": "stream",
          "name": "stdout",
          "text": [
            "[[12 13 14 15]\n",
            " [17 18 19 20]\n",
            " [22 23 24 25]]\n"
          ]
        }
      ]
    },
    {
      "cell_type": "markdown",
      "source": [
        "Написать код обращения к элементу который вернет значение  20 изстартовой матрицы задачи l"
      ],
      "metadata": {
        "id": "_qoO4LVqAuQo"
      }
    },
    {
      "cell_type": "code",
      "source": [
        "print(mat[3,4])"
      ],
      "metadata": {
        "colab": {
          "base_uri": "https://localhost:8080/"
        },
        "id": "YTqvM-bw-lAZ",
        "outputId": "203009ad-e6eb-477a-8e26-0abb7a518baf"
      },
      "execution_count": 42,
      "outputs": [
        {
          "output_type": "stream",
          "name": "stdout",
          "text": [
            "20\n"
          ]
        }
      ]
    },
    {
      "cell_type": "markdown",
      "source": [
        "Написать код к стартовой матрице задачи l , который воспроизводит вывод, показанный ниже"
      ],
      "metadata": {
        "id": "b7ECPl-2BMah"
      }
    },
    {
      "cell_type": "code",
      "source": [
        "print(mat[0:3,1:2])"
      ],
      "metadata": {
        "colab": {
          "base_uri": "https://localhost:8080/"
        },
        "id": "ZstEeqUtAyCC",
        "outputId": "093456c6-e946-471f-a6b3-962451442e19"
      },
      "execution_count": 43,
      "outputs": [
        {
          "output_type": "stream",
          "name": "stdout",
          "text": [
            "[[ 2]\n",
            " [ 7]\n",
            " [12]]\n"
          ]
        }
      ]
    },
    {
      "cell_type": "markdown",
      "source": [
        "Написать код к стартовой матрице задачи l , который воспроизводит вывод, показанный ниже"
      ],
      "metadata": {
        "id": "JO90q2A5Bk2S"
      }
    },
    {
      "cell_type": "code",
      "source": [
        "print(mat[4:])"
      ],
      "metadata": {
        "colab": {
          "base_uri": "https://localhost:8080/"
        },
        "id": "NYlWYLaHBSLC",
        "outputId": "bb984083-ace5-48cd-a914-b2bdd115b480"
      },
      "execution_count": 44,
      "outputs": [
        {
          "output_type": "stream",
          "name": "stdout",
          "text": [
            "[[21 22 23 24 25]]\n"
          ]
        }
      ]
    },
    {
      "cell_type": "markdown",
      "source": [
        "Написать код к стартовой матрице задачи l , который воспроизводит вывод, показанный ниже"
      ],
      "metadata": {
        "id": "m_DaQ7_1B2Qh"
      }
    },
    {
      "cell_type": "code",
      "source": [
        "print(mat[3:])"
      ],
      "metadata": {
        "colab": {
          "base_uri": "https://localhost:8080/"
        },
        "id": "VCLswjlVBnzi",
        "outputId": "28c43c0b-47a0-42a0-ffc4-d34b265ee90a"
      },
      "execution_count": 45,
      "outputs": [
        {
          "output_type": "stream",
          "name": "stdout",
          "text": [
            "[[16 17 18 19 20]\n",
            " [21 22 23 24 25]]\n"
          ]
        }
      ]
    },
    {
      "cell_type": "markdown",
      "source": [
        "Получить сумму всех значений в стартовой матрице mat"
      ],
      "metadata": {
        "id": "_8YFe9oEEt0L"
      }
    },
    {
      "cell_type": "code",
      "source": [
        "print(mat.sum())"
      ],
      "metadata": {
        "colab": {
          "base_uri": "https://localhost:8080/"
        },
        "id": "km5UQ2mWCcyZ",
        "outputId": "4afb7307-122a-4650-b58f-f4f3045eb0bb"
      },
      "execution_count": 49,
      "outputs": [
        {
          "output_type": "stream",
          "name": "stdout",
          "text": [
            "325\n"
          ]
        }
      ]
    },
    {
      "cell_type": "markdown",
      "source": [
        "Получить стандартное отклонение в стартовой матрице mat"
      ],
      "metadata": {
        "id": "3f4K0y2cHq3D"
      }
    },
    {
      "cell_type": "code",
      "source": [
        "print(np.std(mat))"
      ],
      "metadata": {
        "colab": {
          "base_uri": "https://localhost:8080/"
        },
        "id": "qgv6EAT7EwkK",
        "outputId": "5224c79f-3175-42be-e63d-95ea554be560"
      },
      "execution_count": 51,
      "outputs": [
        {
          "output_type": "stream",
          "name": "stdout",
          "text": [
            "7.211102550927978\n"
          ]
        }
      ]
    },
    {
      "cell_type": "markdown",
      "source": [
        "Получить сумму значений в колонках в стартовой матрице mat"
      ],
      "metadata": {
        "id": "kMYKQH82HyES"
      }
    },
    {
      "cell_type": "code",
      "source": [
        "print(mat.sum(axis=0))"
      ],
      "metadata": {
        "colab": {
          "base_uri": "https://localhost:8080/"
        },
        "id": "bHVEl-iTFUKK",
        "outputId": "4e62d621-a889-4b5f-f9e4-4edfa2a16d16"
      },
      "execution_count": 50,
      "outputs": [
        {
          "output_type": "stream",
          "name": "stdout",
          "text": [
            "[55 60 65 70 75]\n"
          ]
        }
      ]
    },
    {
      "cell_type": "markdown",
      "source": [],
      "metadata": {
        "id": "vkq9RVaFGhwS"
      }
    }
  ]
}